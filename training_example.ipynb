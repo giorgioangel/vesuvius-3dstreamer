{
 "cells": [
  {
   "cell_type": "code",
   "execution_count": null,
   "metadata": {},
   "outputs": [],
   "source": [
    "from datautils.streamer import VesuviusStream\n",
    "from torch.data.utils import DataLoader"
   ]
  },
  {
   "cell_type": "code",
   "execution_count": 2,
   "metadata": {},
   "outputs": [],
   "source": [
    "EPOCHS = 6\n",
    "BATCH_SIZE = 4\n",
    "SAMPLES_PER_EPOCH = BATCH_SIZE*4\n",
    "Z_SIZE = 2\n",
    "Y_SIZE = 4\n",
    "X_SIZE = 6\n",
    "NUM_WORKERS = 2 # you can change the number of parallel workers"
   ]
  },
  {
   "cell_type": "code",
   "execution_count": null,
   "metadata": {},
   "outputs": [],
   "source": [
    "# file_path should be the path of the example.zarr\n",
    "# the example.zarr has been generated from the monster scroll\n",
    "# with the following parameters for the 3D ROI (region of interest)\n",
    "# so I could upload it as an example\n",
    "# --z_start 26 --z_end 36\n",
    "# --x_start 6000 --x_end 7000\n",
    "# --y_start 4000 --y_end 5000\n",
    "dataset = VesuviusStream(file_path='./example_zarr/example.zarr', z_size=Z_SIZE, y_size=Y_SIZE, x_size=X_SIZE, samples_per_epoch=SAMPLES_PER_EPOCH)\n",
    "loader = DataLoader(dataset, batch_size=BATCH_SIZE, num_workers=NUM_WORKERS)"
   ]
  },
  {
   "cell_type": "code",
   "execution_count": null,
   "metadata": {},
   "outputs": [],
   "source": [
    "# In each epoch you will generate samples_epoch * num_workers\n",
    "# therefore you will see samples_epoch*num_workers/batch_size iterations (or batches) per epoch\n",
    "# Each batch will have (batch_size, z_size, y_size, x_size) dimension\n",
    "for epoch in range(EPOCHS):\n",
    "  for index, data in enumerate(loader):\n",
    "    print(index, data.size())"
   ]
  }
 ],
 "metadata": {
  "kernelspec": {
   "display_name": "Python 3 (ipykernel)",
   "language": "python",
   "name": "python3"
  },
  "language_info": {
   "codemirror_mode": {
    "name": "ipython",
    "version": 3
   },
   "file_extension": ".py",
   "mimetype": "text/x-python",
   "name": "python",
   "nbconvert_exporter": "python",
   "pygments_lexer": "ipython3",
   "version": "3.11.5"
  }
 },
 "nbformat": 4,
 "nbformat_minor": 2
}
