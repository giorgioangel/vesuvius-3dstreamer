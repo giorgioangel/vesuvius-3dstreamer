{
 "cells": [
  {
   "cell_type": "code",
   "execution_count": 4,
   "metadata": {},
   "outputs": [
    {
     "ename": "ModuleNotFoundError",
     "evalue": "No module named 'torch'",
     "output_type": "error",
     "traceback": [
      "\u001b[1;31m---------------------------------------------------------------------------\u001b[0m",
      "\u001b[1;31mModuleNotFoundError\u001b[0m                       Traceback (most recent call last)",
      "Cell \u001b[1;32mIn[4], line 1\u001b[0m\n\u001b[1;32m----> 1\u001b[0m \u001b[38;5;28;01mfrom\u001b[39;00m \u001b[38;5;21;01mdatautils\u001b[39;00m\u001b[38;5;21;01m.\u001b[39;00m\u001b[38;5;21;01mstreamer\u001b[39;00m \u001b[38;5;28;01mimport\u001b[39;00m VesuviusStream\n\u001b[0;32m      2\u001b[0m \u001b[38;5;28;01mfrom\u001b[39;00m \u001b[38;5;21;01mtorch\u001b[39;00m\u001b[38;5;21;01m.\u001b[39;00m\u001b[38;5;21;01mdata\u001b[39;00m\u001b[38;5;21;01m.\u001b[39;00m\u001b[38;5;21;01mutils\u001b[39;00m \u001b[38;5;28;01mimport\u001b[39;00m DataLoader\n",
      "File \u001b[1;32m~\\Documents\\Projects\\vesuvius-3dstreamer\\datautils\\streamer.py:2\u001b[0m\n\u001b[0;32m      1\u001b[0m \u001b[38;5;28;01mimport\u001b[39;00m \u001b[38;5;21;01mzarr\u001b[39;00m\n\u001b[1;32m----> 2\u001b[0m \u001b[38;5;28;01mimport\u001b[39;00m \u001b[38;5;21;01mtorch\u001b[39;00m\n\u001b[0;32m      3\u001b[0m \u001b[38;5;28;01mimport\u001b[39;00m \u001b[38;5;21;01mnumpy\u001b[39;00m \u001b[38;5;28;01mas\u001b[39;00m \u001b[38;5;21;01mnp\u001b[39;00m\n\u001b[0;32m      4\u001b[0m \u001b[38;5;28;01mfrom\u001b[39;00m \u001b[38;5;21;01mtorch\u001b[39;00m\u001b[38;5;21;01m.\u001b[39;00m\u001b[38;5;21;01mutils\u001b[39;00m\u001b[38;5;21;01m.\u001b[39;00m\u001b[38;5;21;01mdata\u001b[39;00m \u001b[38;5;28;01mimport\u001b[39;00m IterableDataset\n",
      "\u001b[1;31mModuleNotFoundError\u001b[0m: No module named 'torch'"
     ]
    }
   ],
   "source": [
    "from datautils.streamer import VesuviusStream\n",
    "from torch.data.utils import DataLoader"
   ]
  },
  {
   "cell_type": "code",
   "execution_count": 2,
   "metadata": {},
   "outputs": [],
   "source": [
    "EPOCHS = 6\n",
    "BATCH_SIZE = 4\n",
    "SAMPLES_PER_EPOCH = BATCH_SIZE*4\n",
    "Z_SIZE = 2\n",
    "Y_SIZE = 4\n",
    "X_SIZE = 6\n",
    "NUM_WORKERS = 2 # you can change the number of parallel workers"
   ]
  },
  {
   "cell_type": "code",
   "execution_count": 3,
   "metadata": {},
   "outputs": [
    {
     "ename": "NameError",
     "evalue": "name 'VesuviusStream' is not defined",
     "output_type": "error",
     "traceback": [
      "\u001b[1;31m---------------------------------------------------------------------------\u001b[0m",
      "\u001b[1;31mNameError\u001b[0m                                 Traceback (most recent call last)",
      "Cell \u001b[1;32mIn[3], line 8\u001b[0m\n\u001b[0;32m      1\u001b[0m \u001b[38;5;66;03m# file_path should be the path of the example.zarr\u001b[39;00m\n\u001b[0;32m      2\u001b[0m \u001b[38;5;66;03m# the example.zarr has been generated from the monster scroll\u001b[39;00m\n\u001b[0;32m      3\u001b[0m \u001b[38;5;66;03m# with the following parameters for the 3D ROI (region of interest)\u001b[39;00m\n\u001b[1;32m   (...)\u001b[0m\n\u001b[0;32m      6\u001b[0m \u001b[38;5;66;03m# --x_start 6000 --x_end 7000\u001b[39;00m\n\u001b[0;32m      7\u001b[0m \u001b[38;5;66;03m# --y_start 4000 --y_end 5000\u001b[39;00m\n\u001b[1;32m----> 8\u001b[0m dataset \u001b[38;5;241m=\u001b[39m VesuviusStream(file_path\u001b[38;5;241m=\u001b[39m\u001b[38;5;124m'\u001b[39m\u001b[38;5;124m./example_zarr/example.zarr\u001b[39m\u001b[38;5;124m'\u001b[39m, z_size\u001b[38;5;241m=\u001b[39mZ_SIZE, y_size\u001b[38;5;241m=\u001b[39mY_SIZE, x_size\u001b[38;5;241m=\u001b[39mX_SIZE, samples_per_epoch\u001b[38;5;241m=\u001b[39mSAMPLES_PER_EPOCH)\n\u001b[0;32m      9\u001b[0m loader \u001b[38;5;241m=\u001b[39m DataLoader(dataset, batch_size\u001b[38;5;241m=\u001b[39mBATCH_SIZE, num_workers\u001b[38;5;241m=\u001b[39mNUM_WORKERS)\n",
      "\u001b[1;31mNameError\u001b[0m: name 'VesuviusStream' is not defined"
     ]
    }
   ],
   "source": [
    "# file_path should be the path of the example.zarr\n",
    "# the example.zarr has been generated from the monster scroll\n",
    "# with the following parameters for the 3D ROI (region of interest)\n",
    "# so I could upload it as an example\n",
    "# --z_start 26 --z_end 36\n",
    "# --x_start 6000 --x_end 7000\n",
    "# --y_start 4000 --y_end 5000\n",
    "dataset = VesuviusStream(file_path='./example_zarr/example.zarr', z_size=Z_SIZE, y_size=Y_SIZE, x_size=X_SIZE, samples_per_epoch=SAMPLES_PER_EPOCH)\n",
    "loader = DataLoader(dataset, batch_size=BATCH_SIZE, num_workers=NUM_WORKERS)"
   ]
  },
  {
   "cell_type": "code",
   "execution_count": null,
   "metadata": {},
   "outputs": [],
   "source": [
    "# In each epoch you will generate samples_epoch * num_workers\n",
    "# therefore you will see samples_epoch*num_workers/batch_size iterations (or batches) per epoch\n",
    "# Each batch will have (batch_size, z_size, y_size, x_size) dimension\n",
    "for epoch in range(EPOCHS):\n",
    "  for index, data in enumerate(loader):\n",
    "    print(index, data.size())"
   ]
  },
  {
   "cell_type": "code",
   "execution_count": null,
   "metadata": {},
   "outputs": [],
   "source": []
  }
 ],
 "metadata": {
  "kernelspec": {
   "display_name": "Python 3 (ipykernel)",
   "language": "python",
   "name": "python3"
  },
  "language_info": {
   "codemirror_mode": {
    "name": "ipython",
    "version": 3
   },
   "file_extension": ".py",
   "mimetype": "text/x-python",
   "name": "python",
   "nbconvert_exporter": "python",
   "pygments_lexer": "ipython3",
   "version": "3.11.5"
  }
 },
 "nbformat": 4,
 "nbformat_minor": 2
}
